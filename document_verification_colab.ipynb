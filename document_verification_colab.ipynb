{
 "cells": [
  {
   "cell_type": "markdown",
   "id": "6181ef63",
   "metadata": {},
   "source": [
    "# Document Verification Colab Demo\n",
    "This notebook demonstrates how to run the document verification pipeline from the [AIML repo](https://github.com/mastindersingh/AIML) in Google Colab."
   ]
  },
  {
   "cell_type": "code",
   "execution_count": null,
   "id": "24ec8454",
   "metadata": {},
   "outputs": [],
   "source": [
    "# Clone the repo\n",
    "!git clone https://github.com/mastindersingh/document_verification.git\n",
    "!ls document_verification"
   ]
  },
  {
   "cell_type": "code",
   "execution_count": null,
   "id": "0b74c03c",
   "metadata": {},
   "outputs": [],
   "source": [
    "# Install dependencies\n",
    "%cd document_verification\n",
    "!pip install -r requirements.txt"
   ]
  },
  {
   "cell_type": "markdown",
   "id": "4b18fa3b",
   "metadata": {},
   "source": [
    "## (Optional) Upload your model weights and images\n",
    "If you have a trained model weights file (e.g., `siamese_model_weights.h5`), upload it to the appropriate folder.\n",
    "You can also upload your own images for verification."
   ]
  },
  {
   "cell_type": "code",
   "execution_count": null,
   "id": "5a7a8291",
   "metadata": {},
   "outputs": [],
   "source": [
    "# Upload files (run this cell and use the file picker)\n",
    "from google.colab import files\n",
    "uploaded = files.upload()"
   ]
  },
  {
   "cell_type": "code",
   "execution_count": null,
   "id": "45a8dd90",
   "metadata": {},
   "outputs": [],
   "source": [
    "# Run the verification script\n",
    "!python sample_document_verification.py"
   ]
  },
  {
   "cell_type": "markdown",
   "id": "9c04bce2",
   "metadata": {},
   "source": [
    "---\n",
    "You can edit the script or add more cells to customize the pipeline for your own experiments!"
   ]
  }
 ],
 "metadata": {
  "language_info": {
   "name": "python"
  }
 },
 "nbformat": 4,
 "nbformat_minor": 5
}
