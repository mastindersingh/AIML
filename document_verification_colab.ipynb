{
 "cells": [
  {
   "cell_type": "markdown",
   "id": "ed526dee",
   "metadata": {},
   "source": [
    "# Document Verification Colab Demo\n",
    "This notebook demonstrates how to run the document verification pipeline from the [AIML repo](https://github.com/mastindersingh/AIML) in Google Colab."
   ]
  },
  {
   "cell_type": "code",
   "execution_count": null,
   "id": "4dc45518",
   "metadata": {},
   "outputs": [],
   "source": [
    "# Clone the repo\n",
    "!git clone https://github.com/mastindersingh/AIML.git\n",
    "!ls AIML"
   ]
  },
  {
   "cell_type": "code",
   "execution_count": null,
   "id": "e2ac47ef",
   "metadata": {},
   "outputs": [],
   "source": [
    "# Install dependencies\n",
    "%cd AIML\n",
    "!pip install -r document_verification/requirements.txt"
   ]
  },
  {
   "cell_type": "markdown",
   "id": "49b6c356",
   "metadata": {},
   "source": [
    "## (Optional) Upload your model weights and images\n",
    "If you have a trained model weights file (e.g., `siamese_model_weights.h5`), upload it to the appropriate folder.\n",
    "You can also upload your own images for verification."
   ]
  },
  {
   "cell_type": "code",
   "execution_count": null,
   "id": "30cf55b1",
   "metadata": {},
   "outputs": [],
   "source": [
    "# Upload files (run this cell and use the file picker)\n",
    "from google.colab import files\n",
    "uploaded = files.upload()"
   ]
  },
  {
   "cell_type": "code",
   "execution_count": null,
   "id": "189a82d4",
   "metadata": {},
   "outputs": [],
   "source": [
    "# Run the verification script\n",
    "!python -m document_verification.sample_document_verification"
   ]
  },
  {
   "cell_type": "markdown",
   "id": "87e04a15",
   "metadata": {},
   "source": [
    "---\n",
    "You can edit the script or add more cells to customize the pipeline for your own experiments!"
   ]
  }
 ],
 "metadata": {
  "language_info": {
   "name": "python"
  }
 },
 "nbformat": 4,
 "nbformat_minor": 5
}
